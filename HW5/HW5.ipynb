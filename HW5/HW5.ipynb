{
 "cells": [
  {
   "cell_type": "markdown",
   "metadata": {},
   "source": [
    "# CS 182: Artificial Intelligence\n",
    "# Assignment 5: Inference under Uncertainty\n",
    "* Fall 2015\n",
    "* Due: **Monday**, November 16, 11:59pm\n",
    "\n",
    "In this assignment, you will use probabilistic inference and particle filtering to guide Pacman through a tracking  problem. Note: We will use the Pacman framework developed at Berkeley. This framework is used worldwide to teach AI, therefore it is very important that you DO NOT publish your solutions online.\n",
    "\n",
    "\n",
    "\n"
   ]
  },
  {
   "cell_type": "markdown",
   "metadata": {},
   "source": [
    "\n"
   ]
  },
  {
   "cell_type": "markdown",
   "metadata": {},
   "source": [
    "\n",
    "## Computational Assignment\n",
    "\n",
    "### Question 1\n",
    "\n",
    "<img src=\"https://s3-us-west-2.amazonaws.com/cs188websitecontent/projects/release/tracking/v1/001/busters.png\">\n",
    "\n",
    "Follow the instructions at:\n",
    "\n",
    "http://ai.berkeley.edu/tracking.html\n",
    "\n",
    "The page includes questions requiring implementation of sequential decision making and reinforcement algorithms we studied in class. [The grading scheme described on the Berkley webpage will not be used, but can be used for your own testing for evaluating your performance.]\n",
    "\n",
    "To get the assignment we recommend just cloning this repo:\n",
    "\n",
    "> git clone https://github.com/CS182/HW5.git\n",
    "\n",
    " Solutions should be submitted to the course dropbox folder. Submit only the files `bustersAgent.py`  and `inference.py`. If you work in a pair, only one student should submit the files, but make sure to include the names of both students at the top of each of the files.\n"
   ]
  },
  {
   "cell_type": "markdown",
   "metadata": {},
   "source": [
    "### Notes:\n",
    "\n",
    "This is by far the hardest of the Pacman assignments, but also IMHO the most interesting assignment. Be sure you understand the theoretical aspects of tracking and hidden Markov models, as well as particle filters, before you get started.  "
   ]
  },
  {
   "cell_type": "markdown",
   "metadata": {},
   "source": [
    "## Written Assignment \n",
    "\n",
    "Answer the following questions individually, and submit as pdf to the dropbox folder. \n",
    "\n",
    "\n",
    "For this assignment you will play through the typing example from class for a simplified example. Let random variable $E$ represent the observed key press, and $X$ represent the hidden (intended) key press.  We have a language with 4 letters (A, B, C, D), and a keyboard arranged as a circle. \n",
    "\n",
    "<table>\n",
    "<tr> <td>A</td><td>B</td> </tr> \n",
    "<tr> <td>C</td><td>D</td>  </tr>\n",
    "</table>\n",
    "\n",
    "At any time, the probability of hitting the intended key is 50%, and the probability of hitting the neighboring keys is 25%. For example:\n",
    "\n",
    "$$ Pr(E | X = \\mathrm{B}) $$\n",
    "\n",
    "<table>\n",
    "<tr> <td>0.25</td><td>0.5</td> </tr> \n",
    "<tr> <td>0</td><td>0.25</td>  </tr>\n",
    "</table>\n",
    "\n",
    "We will construct a filtering model for constructing the belief state for this problem.\n",
    "\n",
    "\n",
    "### Question 1\n",
    "\n",
    "Assuming a uniform prior distribution, calculate the condition probability table (CPT) of $Pr(X=x | E=e)$ for all $x$ and $e$. \n",
    "\n",
    "### Question 2\n",
    "\n",
    "Now let the prior distribution be:\n",
    "\n",
    "\n",
    "| x  |  Pr(X=x) |\n",
    "|---|---|\n",
    "|A | 0.4 |\n",
    "|B | 0.2    |\n",
    "|C | 0.1    |\n",
    "|D | 0.3    | \n",
    "\n",
    "Calculate the CPT $Pr(X=x | E=e)$ for all $x$ and $e$. \n",
    " \n",
    "### Question 3\n",
    "\n",
    "We next consider a time series of observations. Our transition model will be (rows $X_{i-1}$):\n",
    "\n",
    "$$Pr(X_i | X_{i-1} )$$\n",
    "\n",
    "|   |  A | B | C | D |\n",
    "|---|---|---|----------|\n",
    "|Begin | 1| 0| 0| 0| \n",
    "|A | 0.5 | 0.5 | 0 | 0 |\n",
    "|B | 0.0 | 0.5| 0.5| 0|\n",
    "|C | 0.5 | 0| 0| 0.5|\n",
    "|D |  0.25   |0.25 |0.25 | 0.25|\n",
    "\n",
    "For this problem we are concerned with true (hidden) sequences, as opposed to observations. What is the probability under this model of the sequence of letters \"A B B C D\"? How about \"A A B A\"? What is $Pr(X_3=x | X_1 = \\mathrm{A}, X_2 = \\mathrm{B})$ for all $x$?\n",
    "\n",
    "\n",
    "\n",
    "### Question 4\n",
    "\n",
    "Finally we consider the full filtering problem $Pr(X_n | E_1, \\ldots, E_n)$. Let \"A B B C D\" be the sequence of observed key strokes. What is the current belief state of the model? That is compute $Pr(X_n = x | E_1 = \\mathrm{A}, E_2=\\mathrm{B}, E_3=\\mathrm{B}, E_4 = \\mathrm{C}, E_5=\\mathrm{D})$ for all $x$.\n",
    "\n",
    "\n",
    "\n"
   ]
  }
 ],
 "metadata": {
  "kernelspec": {
   "display_name": "Python 2",
   "language": "python",
   "name": "python2"
  },
  "language_info": {
   "codemirror_mode": {
    "name": "ipython",
    "version": 2
   },
   "file_extension": ".py",
   "mimetype": "text/x-python",
   "name": "python",
   "nbconvert_exporter": "python",
   "pygments_lexer": "ipython2",
   "version": "2.7.9"
  }
 },
 "nbformat": 4,
 "nbformat_minor": 0
}
